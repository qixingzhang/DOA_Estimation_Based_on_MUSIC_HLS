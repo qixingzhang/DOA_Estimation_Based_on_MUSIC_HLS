{
 "cells": [
  {
   "cell_type": "markdown",
   "metadata": {},
   "source": [
    "Load bitstream"
   ]
  },
  {
   "cell_type": "code",
   "execution_count": 1,
   "metadata": {},
   "outputs": [
    {
     "data": {
      "application/javascript": [
       "\n",
       "require(['notebook/js/codecell'], function(codecell) {\n",
       "  codecell.CodeCell.options_default.highlight_modes[\n",
       "      'magic_text/x-csrc'] = {'reg':[/^%%microblaze/]};\n",
       "  Jupyter.notebook.events.one('kernel_ready.Kernel', function(){\n",
       "      Jupyter.notebook.get_cells().map(function(cell){\n",
       "          if (cell.cell_type == 'code'){ cell.auto_highlight(); } }) ;\n",
       "  });\n",
       "});\n"
      ]
     },
     "metadata": {},
     "output_type": "display_data"
    }
   ],
   "source": [
    "from pynq import Xlnk\n",
    "from pynq import Overlay\n",
    "import numpy as np \n",
    "import wave\n",
    "import math\n",
    "import numpy as np\n",
    "import matplotlib.pyplot as plt\n",
    "xlnk = Xlnk()\n",
    "music_design = Overlay(\"./bitstream/music.bit\")\n",
    "music = music_design.music_0\n",
    "dma = music_design.axi_dma_0"
   ]
  },
  {
   "cell_type": "markdown",
   "metadata": {},
   "source": [
    "Load audio from 4 channels"
   ]
  },
  {
   "cell_type": "code",
   "execution_count": 3,
   "metadata": {},
   "outputs": [],
   "source": [
    "wav_path = [\"./test_audio/test_2_ch_1.wav\",\"./test_audio/test_2_ch_2.wav\", \"./test_audio/test_2_ch_3.wav\", \"./test_audio/test_2_ch_4.wav\"]\n",
    "X_re = xlnk.cma_array(shape=(10240,4), dtype=np.float32)\n",
    "X_im = xlnk.cma_array(shape=(10240,4), dtype=np.float32)\n",
    "P_sm = xlnk.cma_array(shape=(361,), dtype=np.float32)\n",
    "for i in range(4):\n",
    "    f = wave.open(wav_path[i], 'r')\n",
    "    f_data = f.readframes(10240) \n",
    "    wave_data = np.fromstring(f_data, dtype = np.short)\n",
    "    X_re.T[:][i] = wave_data"
   ]
  },
  {
   "cell_type": "markdown",
   "metadata": {},
   "source": [
    "Invoke hardware function"
   ]
  },
  {
   "cell_type": "code",
   "execution_count": 4,
   "metadata": {},
   "outputs": [],
   "source": [
    "music.write(0x18, X_re.physical_address)\n",
    "music.write(0x20, X_im.physical_address)\n",
    "dma.recvchannel.transfer(P_sm) \n",
    "music.write(0x00, 0x1)\n",
    "dma.recvchannel.wait()"
   ]
  },
  {
   "cell_type": "markdown",
   "metadata": {},
   "source": [
    "Find power peaks"
   ]
  },
  {
   "cell_type": "code",
   "execution_count": 43,
   "metadata": {},
   "outputs": [
    {
     "name": "stdout",
     "output_type": "stream",
     "text": [
      "DOA1: 7.0deg DOA2: 63.0deg\n"
     ]
    }
   ],
   "source": [
    "p_max = np.zeros(361)\n",
    "index = []\n",
    "for i in range(361):\n",
    "    if (i > 0) and (i < 360):\n",
    "        if((P_sm[i] >= P_sm[i-1]) and (P_sm[i] >= P_sm[i+1])):\n",
    "            p_max[i] = P_sm[i]\n",
    "    index.append(i)\n",
    "for i in range(360):\n",
    "    flag = i;\n",
    "    for j in range(flag+1, 361):\n",
    "        if (p_max[index[flag]] > p_max[index[j]]):\n",
    "            flag = j;\n",
    "    temp = 0;\n",
    "    temp = index[flag];\n",
    "    index[flag] = index[i];\n",
    "    index[i] = temp;\n",
    "DOA1 = 0.5 * index[360] - 90;\n",
    "DOA2 = 0.5 * index[359] - 90;\n",
    "print(\"DOA1: \"+str(DOA1)+\"deg\", \"DOA2: \"+str(DOA2)+\"deg\")"
   ]
  },
  {
   "cell_type": "markdown",
   "metadata": {},
   "source": [
    "Plot Spacial Sectrum"
   ]
  },
  {
   "cell_type": "code",
   "execution_count": 54,
   "metadata": {},
   "outputs": [
    {
     "data": {
      "image/png": "[encoded data removed]",
      "text/plain": [
       "<matplotlib.figure.Figure at 0xaeeb6c90>"
      ]
     },
     "metadata": {},
     "output_type": "display_data"
    }
   ],
   "source": [
    "angle = np.zeros(361)\n",
    "P = np.zeros(361)\n",
    "for i in range(361):\n",
    "    angle[i] = i*0.5 - 90\n",
    "    P[i] = 10*math.log(P_sm[i],10)\n",
    "    \n",
    "plt.plot(angle, P)\n",
    "plt.xlim(-90, 90)\n",
    "plt.xlabel(\"angle/degree\")\n",
    "plt.ylabel(\"power/dB\")\n",
    "plt.show()"
   ]
  },
  {
   "cell_type": "code",
   "execution_count": 56,
   "metadata": {},
   "outputs": [],
   "source": [
    "X_re.close()\n",
    "X_im.close()\n",
    "P_sm.close()\n",
    "xlnk.xlnk_reset()"
   ]
  },
  {
   "cell_type": "code",
   "execution_count": null,
   "metadata": {},
   "outputs": [],
   "source": []
  }
 ],
 "metadata": {
  "kernelspec": {
   "display_name": "Python 3",
   "language": "python",
   "name": "python3"
  },
  "language_info": {
   "codemirror_mode": {
    "name": "ipython",
    "version": 3
   },
   "file_extension": ".py",
   "mimetype": "text/x-python",
   "name": "python",
   "nbconvert_exporter": "python",
   "pygments_lexer": "ipython3",
   "version": "3.6.5"
  }
 },
 "nbformat": 4,
 "nbformat_minor": 2
}
